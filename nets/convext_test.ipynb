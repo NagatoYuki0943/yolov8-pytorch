{
 "cells": [
  {
   "cell_type": "code",
   "execution_count": 1,
   "metadata": {},
   "outputs": [],
   "source": [
    "import torch\n",
    "from torch import nn\n",
    "from torchvision import models"
   ]
  },
  {
   "attachments": {},
   "cell_type": "markdown",
   "metadata": {},
   "source": [
    "# ConvNeXt"
   ]
  },
  {
   "cell_type": "code",
   "execution_count": 2,
   "metadata": {},
   "outputs": [
    {
     "name": "stderr",
     "output_type": "stream",
     "text": [
      "Downloading: \"https://download.pytorch.org/models/convnext_tiny-983f1562.pth\" to C:\\Users\\Administrator/.cache\\torch\\hub\\checkpoints\\convnext_tiny-983f1562.pth\n",
      "100%|██████████| 109M/109M [00:09<00:00, 11.7MB/s] \n"
     ]
    }
   ],
   "source": [
    "model = models.convnext_tiny(weights=models.ConvNeXt_Tiny_Weights.DEFAULT)"
   ]
  },
  {
   "cell_type": "code",
   "execution_count": 3,
   "metadata": {},
   "outputs": [
    {
     "name": "stdout",
     "output_type": "stream",
     "text": [
      "features\n",
      "avgpool\n",
      "classifier\n"
     ]
    }
   ],
   "source": [
    "for name, _ in model.named_children():\n",
    "    print(name)"
   ]
  },
  {
   "cell_type": "code",
   "execution_count": 4,
   "metadata": {},
   "outputs": [],
   "source": [
    "del model.avgpool\n",
    "del model.classifier"
   ]
  },
  {
   "cell_type": "code",
   "execution_count": 6,
   "metadata": {},
   "outputs": [
    {
     "data": {
      "text/plain": [
       "Sequential(\n",
       "  (0): Conv2dNormActivation(\n",
       "    (0): Conv2d(3, 96, kernel_size=(4, 4), stride=(4, 4))\n",
       "    (1): LayerNorm2d((96,), eps=1e-06, elementwise_affine=True)\n",
       "  )\n",
       "  (1): Sequential(\n",
       "    (0): CNBlock(\n",
       "      (block): Sequential(\n",
       "        (0): Conv2d(96, 96, kernel_size=(7, 7), stride=(1, 1), padding=(3, 3), groups=96)\n",
       "        (1): Permute()\n",
       "        (2): LayerNorm((96,), eps=1e-06, elementwise_affine=True)\n",
       "        (3): Linear(in_features=96, out_features=384, bias=True)\n",
       "        (4): GELU(approximate='none')\n",
       "        (5): Linear(in_features=384, out_features=96, bias=True)\n",
       "        (6): Permute()\n",
       "      )\n",
       "      (stochastic_depth): StochasticDepth(p=0.0, mode=row)\n",
       "    )\n",
       "    (1): CNBlock(\n",
       "      (block): Sequential(\n",
       "        (0): Conv2d(96, 96, kernel_size=(7, 7), stride=(1, 1), padding=(3, 3), groups=96)\n",
       "        (1): Permute()\n",
       "        (2): LayerNorm((96,), eps=1e-06, elementwise_affine=True)\n",
       "        (3): Linear(in_features=96, out_features=384, bias=True)\n",
       "        (4): GELU(approximate='none')\n",
       "        (5): Linear(in_features=384, out_features=96, bias=True)\n",
       "        (6): Permute()\n",
       "      )\n",
       "      (stochastic_depth): StochasticDepth(p=0.0058823529411764705, mode=row)\n",
       "    )\n",
       "    (2): CNBlock(\n",
       "      (block): Sequential(\n",
       "        (0): Conv2d(96, 96, kernel_size=(7, 7), stride=(1, 1), padding=(3, 3), groups=96)\n",
       "        (1): Permute()\n",
       "        (2): LayerNorm((96,), eps=1e-06, elementwise_affine=True)\n",
       "        (3): Linear(in_features=96, out_features=384, bias=True)\n",
       "        (4): GELU(approximate='none')\n",
       "        (5): Linear(in_features=384, out_features=96, bias=True)\n",
       "        (6): Permute()\n",
       "      )\n",
       "      (stochastic_depth): StochasticDepth(p=0.011764705882352941, mode=row)\n",
       "    )\n",
       "  )\n",
       "  (2): Sequential(\n",
       "    (0): LayerNorm2d((96,), eps=1e-06, elementwise_affine=True)\n",
       "    (1): Conv2d(96, 192, kernel_size=(2, 2), stride=(2, 2))\n",
       "  )\n",
       "  (3): Sequential(\n",
       "    (0): CNBlock(\n",
       "      (block): Sequential(\n",
       "        (0): Conv2d(192, 192, kernel_size=(7, 7), stride=(1, 1), padding=(3, 3), groups=192)\n",
       "        (1): Permute()\n",
       "        (2): LayerNorm((192,), eps=1e-06, elementwise_affine=True)\n",
       "        (3): Linear(in_features=192, out_features=768, bias=True)\n",
       "        (4): GELU(approximate='none')\n",
       "        (5): Linear(in_features=768, out_features=192, bias=True)\n",
       "        (6): Permute()\n",
       "      )\n",
       "      (stochastic_depth): StochasticDepth(p=0.017647058823529415, mode=row)\n",
       "    )\n",
       "    (1): CNBlock(\n",
       "      (block): Sequential(\n",
       "        (0): Conv2d(192, 192, kernel_size=(7, 7), stride=(1, 1), padding=(3, 3), groups=192)\n",
       "        (1): Permute()\n",
       "        (2): LayerNorm((192,), eps=1e-06, elementwise_affine=True)\n",
       "        (3): Linear(in_features=192, out_features=768, bias=True)\n",
       "        (4): GELU(approximate='none')\n",
       "        (5): Linear(in_features=768, out_features=192, bias=True)\n",
       "        (6): Permute()\n",
       "      )\n",
       "      (stochastic_depth): StochasticDepth(p=0.023529411764705882, mode=row)\n",
       "    )\n",
       "    (2): CNBlock(\n",
       "      (block): Sequential(\n",
       "        (0): Conv2d(192, 192, kernel_size=(7, 7), stride=(1, 1), padding=(3, 3), groups=192)\n",
       "        (1): Permute()\n",
       "        (2): LayerNorm((192,), eps=1e-06, elementwise_affine=True)\n",
       "        (3): Linear(in_features=192, out_features=768, bias=True)\n",
       "        (4): GELU(approximate='none')\n",
       "        (5): Linear(in_features=768, out_features=192, bias=True)\n",
       "        (6): Permute()\n",
       "      )\n",
       "      (stochastic_depth): StochasticDepth(p=0.029411764705882353, mode=row)\n",
       "    )\n",
       "  )\n",
       "  (4): Sequential(\n",
       "    (0): LayerNorm2d((192,), eps=1e-06, elementwise_affine=True)\n",
       "    (1): Conv2d(192, 384, kernel_size=(2, 2), stride=(2, 2))\n",
       "  )\n",
       "  (5): Sequential(\n",
       "    (0): CNBlock(\n",
       "      (block): Sequential(\n",
       "        (0): Conv2d(384, 384, kernel_size=(7, 7), stride=(1, 1), padding=(3, 3), groups=384)\n",
       "        (1): Permute()\n",
       "        (2): LayerNorm((384,), eps=1e-06, elementwise_affine=True)\n",
       "        (3): Linear(in_features=384, out_features=1536, bias=True)\n",
       "        (4): GELU(approximate='none')\n",
       "        (5): Linear(in_features=1536, out_features=384, bias=True)\n",
       "        (6): Permute()\n",
       "      )\n",
       "      (stochastic_depth): StochasticDepth(p=0.03529411764705883, mode=row)\n",
       "    )\n",
       "    (1): CNBlock(\n",
       "      (block): Sequential(\n",
       "        (0): Conv2d(384, 384, kernel_size=(7, 7), stride=(1, 1), padding=(3, 3), groups=384)\n",
       "        (1): Permute()\n",
       "        (2): LayerNorm((384,), eps=1e-06, elementwise_affine=True)\n",
       "        (3): Linear(in_features=384, out_features=1536, bias=True)\n",
       "        (4): GELU(approximate='none')\n",
       "        (5): Linear(in_features=1536, out_features=384, bias=True)\n",
       "        (6): Permute()\n",
       "      )\n",
       "      (stochastic_depth): StochasticDepth(p=0.0411764705882353, mode=row)\n",
       "    )\n",
       "    (2): CNBlock(\n",
       "      (block): Sequential(\n",
       "        (0): Conv2d(384, 384, kernel_size=(7, 7), stride=(1, 1), padding=(3, 3), groups=384)\n",
       "        (1): Permute()\n",
       "        (2): LayerNorm((384,), eps=1e-06, elementwise_affine=True)\n",
       "        (3): Linear(in_features=384, out_features=1536, bias=True)\n",
       "        (4): GELU(approximate='none')\n",
       "        (5): Linear(in_features=1536, out_features=384, bias=True)\n",
       "        (6): Permute()\n",
       "      )\n",
       "      (stochastic_depth): StochasticDepth(p=0.047058823529411764, mode=row)\n",
       "    )\n",
       "    (3): CNBlock(\n",
       "      (block): Sequential(\n",
       "        (0): Conv2d(384, 384, kernel_size=(7, 7), stride=(1, 1), padding=(3, 3), groups=384)\n",
       "        (1): Permute()\n",
       "        (2): LayerNorm((384,), eps=1e-06, elementwise_affine=True)\n",
       "        (3): Linear(in_features=384, out_features=1536, bias=True)\n",
       "        (4): GELU(approximate='none')\n",
       "        (5): Linear(in_features=1536, out_features=384, bias=True)\n",
       "        (6): Permute()\n",
       "      )\n",
       "      (stochastic_depth): StochasticDepth(p=0.052941176470588235, mode=row)\n",
       "    )\n",
       "    (4): CNBlock(\n",
       "      (block): Sequential(\n",
       "        (0): Conv2d(384, 384, kernel_size=(7, 7), stride=(1, 1), padding=(3, 3), groups=384)\n",
       "        (1): Permute()\n",
       "        (2): LayerNorm((384,), eps=1e-06, elementwise_affine=True)\n",
       "        (3): Linear(in_features=384, out_features=1536, bias=True)\n",
       "        (4): GELU(approximate='none')\n",
       "        (5): Linear(in_features=1536, out_features=384, bias=True)\n",
       "        (6): Permute()\n",
       "      )\n",
       "      (stochastic_depth): StochasticDepth(p=0.058823529411764705, mode=row)\n",
       "    )\n",
       "    (5): CNBlock(\n",
       "      (block): Sequential(\n",
       "        (0): Conv2d(384, 384, kernel_size=(7, 7), stride=(1, 1), padding=(3, 3), groups=384)\n",
       "        (1): Permute()\n",
       "        (2): LayerNorm((384,), eps=1e-06, elementwise_affine=True)\n",
       "        (3): Linear(in_features=384, out_features=1536, bias=True)\n",
       "        (4): GELU(approximate='none')\n",
       "        (5): Linear(in_features=1536, out_features=384, bias=True)\n",
       "        (6): Permute()\n",
       "      )\n",
       "      (stochastic_depth): StochasticDepth(p=0.06470588235294118, mode=row)\n",
       "    )\n",
       "    (6): CNBlock(\n",
       "      (block): Sequential(\n",
       "        (0): Conv2d(384, 384, kernel_size=(7, 7), stride=(1, 1), padding=(3, 3), groups=384)\n",
       "        (1): Permute()\n",
       "        (2): LayerNorm((384,), eps=1e-06, elementwise_affine=True)\n",
       "        (3): Linear(in_features=384, out_features=1536, bias=True)\n",
       "        (4): GELU(approximate='none')\n",
       "        (5): Linear(in_features=1536, out_features=384, bias=True)\n",
       "        (6): Permute()\n",
       "      )\n",
       "      (stochastic_depth): StochasticDepth(p=0.07058823529411766, mode=row)\n",
       "    )\n",
       "    (7): CNBlock(\n",
       "      (block): Sequential(\n",
       "        (0): Conv2d(384, 384, kernel_size=(7, 7), stride=(1, 1), padding=(3, 3), groups=384)\n",
       "        (1): Permute()\n",
       "        (2): LayerNorm((384,), eps=1e-06, elementwise_affine=True)\n",
       "        (3): Linear(in_features=384, out_features=1536, bias=True)\n",
       "        (4): GELU(approximate='none')\n",
       "        (5): Linear(in_features=1536, out_features=384, bias=True)\n",
       "        (6): Permute()\n",
       "      )\n",
       "      (stochastic_depth): StochasticDepth(p=0.07647058823529412, mode=row)\n",
       "    )\n",
       "    (8): CNBlock(\n",
       "      (block): Sequential(\n",
       "        (0): Conv2d(384, 384, kernel_size=(7, 7), stride=(1, 1), padding=(3, 3), groups=384)\n",
       "        (1): Permute()\n",
       "        (2): LayerNorm((384,), eps=1e-06, elementwise_affine=True)\n",
       "        (3): Linear(in_features=384, out_features=1536, bias=True)\n",
       "        (4): GELU(approximate='none')\n",
       "        (5): Linear(in_features=1536, out_features=384, bias=True)\n",
       "        (6): Permute()\n",
       "      )\n",
       "      (stochastic_depth): StochasticDepth(p=0.0823529411764706, mode=row)\n",
       "    )\n",
       "  )\n",
       "  (6): Sequential(\n",
       "    (0): LayerNorm2d((384,), eps=1e-06, elementwise_affine=True)\n",
       "    (1): Conv2d(384, 768, kernel_size=(2, 2), stride=(2, 2))\n",
       "  )\n",
       "  (7): Sequential(\n",
       "    (0): CNBlock(\n",
       "      (block): Sequential(\n",
       "        (0): Conv2d(768, 768, kernel_size=(7, 7), stride=(1, 1), padding=(3, 3), groups=768)\n",
       "        (1): Permute()\n",
       "        (2): LayerNorm((768,), eps=1e-06, elementwise_affine=True)\n",
       "        (3): Linear(in_features=768, out_features=3072, bias=True)\n",
       "        (4): GELU(approximate='none')\n",
       "        (5): Linear(in_features=3072, out_features=768, bias=True)\n",
       "        (6): Permute()\n",
       "      )\n",
       "      (stochastic_depth): StochasticDepth(p=0.08823529411764706, mode=row)\n",
       "    )\n",
       "    (1): CNBlock(\n",
       "      (block): Sequential(\n",
       "        (0): Conv2d(768, 768, kernel_size=(7, 7), stride=(1, 1), padding=(3, 3), groups=768)\n",
       "        (1): Permute()\n",
       "        (2): LayerNorm((768,), eps=1e-06, elementwise_affine=True)\n",
       "        (3): Linear(in_features=768, out_features=3072, bias=True)\n",
       "        (4): GELU(approximate='none')\n",
       "        (5): Linear(in_features=3072, out_features=768, bias=True)\n",
       "        (6): Permute()\n",
       "      )\n",
       "      (stochastic_depth): StochasticDepth(p=0.09411764705882353, mode=row)\n",
       "    )\n",
       "    (2): CNBlock(\n",
       "      (block): Sequential(\n",
       "        (0): Conv2d(768, 768, kernel_size=(7, 7), stride=(1, 1), padding=(3, 3), groups=768)\n",
       "        (1): Permute()\n",
       "        (2): LayerNorm((768,), eps=1e-06, elementwise_affine=True)\n",
       "        (3): Linear(in_features=768, out_features=3072, bias=True)\n",
       "        (4): GELU(approximate='none')\n",
       "        (5): Linear(in_features=3072, out_features=768, bias=True)\n",
       "        (6): Permute()\n",
       "      )\n",
       "      (stochastic_depth): StochasticDepth(p=0.1, mode=row)\n",
       "    )\n",
       "  )\n",
       ")"
      ]
     },
     "execution_count": 6,
     "metadata": {},
     "output_type": "execute_result"
    }
   ],
   "source": [
    "model.features"
   ]
  },
  {
   "cell_type": "code",
   "execution_count": 10,
   "metadata": {},
   "outputs": [
    {
     "name": "stdout",
     "output_type": "stream",
     "text": [
      "torch.Size([1, 3, 224, 224])\n",
      "torch.Size([1, 96, 56, 56])\n",
      "torch.Size([1, 192, 28, 28])\n",
      "torch.Size([1, 384, 14, 14])\n",
      "torch.Size([1, 768, 7, 7])\n"
     ]
    }
   ],
   "source": [
    "x = torch.ones(1, 3, 224, 224)\n",
    "print(x.size())\n",
    "model.eval()\n",
    "with torch.inference_mode():\n",
    "    x = model.features[:2](x)\n",
    "    print(x.size())\n",
    "    x = model.features[2:4](x)\n",
    "    feat1 = x\n",
    "    print(x.size())\n",
    "    x = model.features[4:6](x)\n",
    "    feat2 = x\n",
    "    print(x.size())\n",
    "    x = model.features[6:](x)\n",
    "    feat3 = x\n",
    "    print(x.size())"
   ]
  },
  {
   "cell_type": "code",
   "execution_count": 11,
   "metadata": {},
   "outputs": [
    {
     "name": "stdout",
     "output_type": "stream",
     "text": [
      "torch.Size([1, 192, 28, 28]) torch.Size([1, 384, 14, 14]) torch.Size([1, 768, 7, 7])\n"
     ]
    }
   ],
   "source": [
    "print(feat1.size(), feat2.size(), feat3.size())"
   ]
  },
  {
   "attachments": {},
   "cell_type": "markdown",
   "metadata": {},
   "source": [
    "# ConvNeXt backbone"
   ]
  },
  {
   "cell_type": "code",
   "execution_count": 14,
   "metadata": {},
   "outputs": [],
   "source": [
    "class ConvNeXt(nn.Module):\n",
    "    def __init__(self, variance: str = \"convnext_tiny\", pretrained=True) -> None:\n",
    "        \"\"\"convnext backbone\n",
    "\n",
    "        Args:\n",
    "            variance (str, optional): convnext version in [convnext_tiny, convnext_small, convnext_base, convnext_large]. Defaults to \"convnext_tiny\".\n",
    "        \"\"\"\n",
    "        super().__init__()\n",
    "        if variance == \"convnext_tiny\":\n",
    "            self.model = models.convnext_tiny(weights=models.ConvNeXt_Tiny_Weights.DEFAULT if pretrained else None)\n",
    "        elif variance == \"convnext_small\":\n",
    "            self.model = models.convnext_small(weights=models.ConvNeXt_Small_Weights.DEFAULT if pretrained else None)\n",
    "        elif variance == \"convnext_base\":\n",
    "            self.model = models.convnext_base(weights=models.ConvNeXt_Base_Weights.DEFAULT if pretrained else None)\n",
    "        elif variance == \"convnext_large\":\n",
    "            self.model = models.convnext_large(weights=models.ConvNeXt_Large_Weights.DEFAULT if pretrained else None)\n",
    "\n",
    "        del self.model.avgpool\n",
    "        del self.model.classifier\n",
    "\n",
    "    def forward(self, x: torch.Tensor) -> torch.Tensor:\n",
    "        x = self.model.features[:4](x)\n",
    "        feat1 = x\n",
    "        x = self.model.features[4:6](x)\n",
    "        feat2 = x\n",
    "        x = self.model.features[6:](x)\n",
    "        feat3 = x\n",
    "\n",
    "        return [feat1, feat2, feat3]"
   ]
  },
  {
   "cell_type": "code",
   "execution_count": 35,
   "metadata": {},
   "outputs": [],
   "source": [
    "model = ConvNeXt(\"convnext_tiny\", False)"
   ]
  },
  {
   "cell_type": "code",
   "execution_count": 36,
   "metadata": {},
   "outputs": [
    {
     "name": "stdout",
     "output_type": "stream",
     "text": [
      "torch.Size([1, 192, 80, 80])\n",
      "torch.Size([1, 384, 40, 40])\n",
      "torch.Size([1, 768, 20, 20])\n"
     ]
    }
   ],
   "source": [
    "x = torch.ones(1, 3, 640, 640)\n",
    "feats = model(x)\n",
    "for feat in feats:\n",
    "    print(feat.size())"
   ]
  },
  {
   "attachments": {},
   "cell_type": "markdown",
   "metadata": {},
   "source": [
    "> v1 v2 channel 数量相同\n",
    "\n",
    "| ch    | t    | s    | b    | l    |\n",
    "| ----- | ---- | ---- | ---- | ---- |\n",
    "| feat1 | 192  | 192  | 256  | 384  |\n",
    "| feat2 | 384  | 384  | 512  | 768  |\n",
    "| feat3 | 768  | 768  | 1024 | 1536 |"
   ]
  }
 ],
 "metadata": {
  "kernelspec": {
   "display_name": "pytorch",
   "language": "python",
   "name": "python3"
  },
  "language_info": {
   "codemirror_mode": {
    "name": "ipython",
    "version": 3
   },
   "file_extension": ".py",
   "mimetype": "text/x-python",
   "name": "python",
   "nbconvert_exporter": "python",
   "pygments_lexer": "ipython3",
   "version": "3.10.9"
  },
  "orig_nbformat": 4
 },
 "nbformat": 4,
 "nbformat_minor": 2
}
